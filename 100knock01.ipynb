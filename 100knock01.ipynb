{
  "nbformat": 4,
  "nbformat_minor": 0,
  "metadata": {
    "colab": {
      "name": "100knock01.ipynb",
      "provenance": [],
      "authorship_tag": "ABX9TyM4oqcdNpXSc6jVrxQ0cCRN",
      "include_colab_link": true
    },
    "kernelspec": {
      "name": "python3",
      "display_name": "Python 3"
    },
    "language_info": {
      "name": "python"
    }
  },
  "cells": [
    {
      "cell_type": "markdown",
      "metadata": {
        "id": "view-in-github",
        "colab_type": "text"
      },
      "source": [
        "<a href=\"https://colab.research.google.com/github/DaikiMatusi/NLP_100knock/blob/review/100knock01.ipynb\" target=\"_parent\"><img src=\"https://colab.research.google.com/assets/colab-badge.svg\" alt=\"Open In Colab\"/></a>"
      ]
    },
    {
      "cell_type": "markdown",
      "metadata": {
        "id": "XLaXF0veSHaP"
      },
      "source": [
        "#1章"
      ]
    },
    {
      "cell_type": "markdown",
      "metadata": {
        "id": "lVZEwFwaSNq9"
      },
      "source": [
        "No.00"
      ]
    },
    {
      "cell_type": "code",
      "metadata": {
        "colab": {
          "base_uri": "https://localhost:8080/"
        },
        "id": "Rm5UpnO0SGhh",
        "outputId": "bfcb7f74-2c28-423a-dae0-544b227915ea"
      },
      "source": [
        "s = \"stressed\"\n",
        "\n",
        "t = [s[-(n+1)] for n in range(len(s))]\n",
        "\n",
        "t = \"\".join(t)\n",
        "\n",
        "print(t)"
      ],
      "execution_count": 1,
      "outputs": [
        {
          "output_type": "stream",
          "name": "stdout",
          "text": [
            "desserts\n"
          ]
        }
      ]
    },
    {
      "cell_type": "code",
      "metadata": {
        "colab": {
          "base_uri": "https://localhost:8080/"
        },
        "id": "nTMruOJ6Twlp",
        "outputId": "6a64bf14-d0d1-439f-b476-8ee8eea05f2b"
      },
      "source": [
        "s = \"stressed\"\n",
        "\n",
        "t = s[::-1]\n",
        "\n",
        "print(t)"
      ],
      "execution_count": 11,
      "outputs": [
        {
          "output_type": "stream",
          "name": "stdout",
          "text": [
            "desserts\n"
          ]
        }
      ]
    },
    {
      "cell_type": "markdown",
      "metadata": {
        "id": "Qq8_s989SaXT"
      },
      "source": [
        "No.01"
      ]
    },
    {
      "cell_type": "code",
      "metadata": {
        "colab": {
          "base_uri": "https://localhost:8080/"
        },
        "id": "k725kNR-SWpG",
        "outputId": "44d41bc7-d97b-4344-caec-4b85a37c7cce"
      },
      "source": [
        "s = \"パタトクカシーー\"\n",
        "\n",
        "result = [s[2*n] for n in range(len(s)//2)]\n",
        "\n",
        "result = \"\".join(result)\n",
        "\n",
        "print(result)"
      ],
      "execution_count": 2,
      "outputs": [
        {
          "output_type": "stream",
          "name": "stdout",
          "text": [
            "パトカー\n"
          ]
        }
      ]
    },
    {
      "cell_type": "code",
      "metadata": {
        "colab": {
          "base_uri": "https://localhost:8080/"
        },
        "id": "mgGqaP2kULfM",
        "outputId": "1ac249bf-ef0a-4a30-c801-3baf3dc6b6e5"
      },
      "source": [
        "s = \"パタトクカシーー\"\n",
        "\n",
        "result = s[::2]\n",
        "\n",
        "print(result)"
      ],
      "execution_count": 12,
      "outputs": [
        {
          "output_type": "stream",
          "name": "stdout",
          "text": [
            "パトカー\n"
          ]
        }
      ]
    },
    {
      "cell_type": "markdown",
      "metadata": {
        "id": "yTFFUZ0JSewL"
      },
      "source": [
        "No.02"
      ]
    },
    {
      "cell_type": "code",
      "metadata": {
        "colab": {
          "base_uri": "https://localhost:8080/"
        },
        "id": "jHj_KpZBShD9",
        "outputId": "5bd68e07-34eb-40b9-9670-358ce9181e46"
      },
      "source": [
        "s1 = \"パトカー\"\n",
        "s2 = \"タクシー\"\n",
        "result = \"\"\n",
        "\n",
        "for n in range(len(s1)):\n",
        "    result += s1[n] + s2[n]\n",
        "\n",
        "print(result)"
      ],
      "execution_count": 3,
      "outputs": [
        {
          "output_type": "stream",
          "name": "stdout",
          "text": [
            "パタトクカシーー\n"
          ]
        }
      ]
    },
    {
      "cell_type": "markdown",
      "metadata": {
        "id": "TRMo9H_TSmjR"
      },
      "source": [
        "No.03"
      ]
    },
    {
      "cell_type": "code",
      "metadata": {
        "colab": {
          "base_uri": "https://localhost:8080/"
        },
        "id": "Y1BlinlySmJO",
        "outputId": "b5c4418e-ea54-4033-d6ea-d1003803e1f8"
      },
      "source": [
        "import re\n",
        "\n",
        "sentence = \"Now I need a drink, alcoholic of course, after the heavy lectures involving quantum mechanics.\"\n",
        "\n",
        "result = re.sub(\"[.,]\",\"\",sentence)\n",
        "result = result.split()\n",
        "result = [len(word) for word in result]\n",
        "\n",
        "print(result)"
      ],
      "execution_count": 13,
      "outputs": [
        {
          "output_type": "stream",
          "name": "stdout",
          "text": [
            "[3, 1, 4, 1, 5, 9, 2, 6, 5, 3, 5, 8, 9, 7, 9]\n"
          ]
        }
      ]
    },
    {
      "cell_type": "code",
      "metadata": {
        "colab": {
          "base_uri": "https://localhost:8080/"
        },
        "id": "cc6kDQPSWk_C",
        "outputId": "6fb8e852-8ac8-4f38-a1f9-bda2e0d53339"
      },
      "source": [
        "import re\n",
        "\n",
        "def main():\n",
        "    sentence = \"Now I need a drink, alcoholic of course, after the heavy lectures involving quantum mechanics.\"\n",
        "\n",
        "    result = re.sub(\"[.,]\",\"\",sentence)\n",
        "    result = result.split()\n",
        "    result = [len(word) for word in result]\n",
        "\n",
        "    print(result)\n",
        "\n",
        "if __name__==\"__main__\":\n",
        "    main()"
      ],
      "execution_count": 14,
      "outputs": [
        {
          "output_type": "stream",
          "name": "stdout",
          "text": [
            "[3, 1, 4, 1, 5, 9, 2, 6, 5, 3, 5, 8, 9, 7, 9]\n"
          ]
        }
      ]
    },
    {
      "cell_type": "markdown",
      "metadata": {
        "id": "_lLkb3DtSvLo"
      },
      "source": [
        "No.04"
      ]
    },
    {
      "cell_type": "code",
      "metadata": {
        "colab": {
          "base_uri": "https://localhost:8080/"
        },
        "id": "45wyDFveSw_Z",
        "outputId": "079057a4-adff-4c8f-cdea-bf755cb74f86"
      },
      "source": [
        "import re\n",
        "\n",
        "sentence = \"Hi He Lied Because Boron Could Not Oxidize Fluorine. New Nations Might Also Sign Peace Security Clause. Arthur King Can.\"\n",
        "location = [1,5,6,7,8,9,15,16,19]\n",
        "\n",
        "result = re.sub(\"[\\.\\,]\",\"\",sentence)\n",
        "result = result.split()\n",
        "result = [word[:1] if index+1 in location else word[:2] for index, word in enumerate(result)]\n",
        "result = {word:index+1 for index, word in enumerate(result)}\n",
        "\n",
        "print(result)"
      ],
      "execution_count": 15,
      "outputs": [
        {
          "output_type": "stream",
          "name": "stdout",
          "text": [
            "{'H': 1, 'He': 2, 'Li': 3, 'Be': 4, 'B': 5, 'C': 6, 'N': 7, 'O': 8, 'F': 9, 'Ne': 10, 'Na': 11, 'Mi': 12, 'Al': 13, 'Si': 14, 'P': 15, 'S': 16, 'Cl': 17, 'Ar': 18, 'K': 19, 'Ca': 20}\n"
          ]
        }
      ]
    },
    {
      "cell_type": "markdown",
      "metadata": {
        "id": "8bZEswHvS51s"
      },
      "source": [
        "No.05"
      ]
    },
    {
      "cell_type": "code",
      "metadata": {
        "colab": {
          "base_uri": "https://localhost:8080/"
        },
        "id": "a3SqOzH4S8MG",
        "outputId": "14c1259c-02e5-4bcb-dc81-1e056579dc95"
      },
      "source": [
        "sentence = \"I am an NLPer\"\n",
        "\n",
        "def n_gram(lists,n):\n",
        "    return [lists[index:index+n] for index in range(len(lists) - n + 1)]\n",
        "\n",
        "print(\"単語bi-gram\")\n",
        "print(n_gram(sentence.split(),2))\n",
        "print(\"文字bi-gram\")\n",
        "print(n_gram(list(sentence),2))"
      ],
      "execution_count": 6,
      "outputs": [
        {
          "output_type": "stream",
          "name": "stdout",
          "text": [
            "単語bi-gram\n",
            "[['I', 'am'], ['am', 'an'], ['an', 'NLPer']]\n",
            "文字bi-gram\n",
            "[['I', ' '], [' ', 'a'], ['a', 'm'], ['m', ' '], [' ', 'a'], ['a', 'n'], ['n', ' '], [' ', 'N'], ['N', 'L'], ['L', 'P'], ['P', 'e'], ['e', 'r']]\n"
          ]
        }
      ]
    },
    {
      "cell_type": "markdown",
      "metadata": {
        "id": "73mPeiprTFQk"
      },
      "source": [
        "No.06"
      ]
    },
    {
      "cell_type": "code",
      "metadata": {
        "colab": {
          "base_uri": "https://localhost:8080/"
        },
        "id": "huFwgzSeTHn6",
        "outputId": "cc7f7589-bde4-471c-a250-45843735551f"
      },
      "source": [
        "import copy\n",
        "\n",
        "word1 = \"paraparaparadise\"\n",
        "word2 = \"paragraph\"\n",
        "\n",
        "def n_gram(lists,n):\n",
        "    return [lists[index:index+n] for index in range(len(lists) - n + 1)]\n",
        "\n",
        "def list_set(lists):\n",
        "    list_result = []\n",
        "    for element in lists:\n",
        "        if element not in list_result:\n",
        "            list_result.append(element)\n",
        "    return list_result\n",
        "\n",
        "def list_union(list1,list2):\n",
        "    list_result = list1\n",
        "    for element in list2:\n",
        "        if element not in list_result:\n",
        "            list_result.append(element)\n",
        "    return list_result\n",
        "\n",
        "def list_inter(list1,list2):\n",
        "    list_result = []\n",
        "    for element in list1:\n",
        "        if element in list2:\n",
        "            list_result.append(element)\n",
        "    return list_result\n",
        "\n",
        "def list_diff(list1,list2):\n",
        "    list_result = []\n",
        "    for element in list1:\n",
        "        if element not in list2:\n",
        "            list_result.append(element)\n",
        "    return list_result\n",
        "        \n",
        "def list_se(myList):\n",
        "    if [\"s\",\"e\"] in myList:\n",
        "        return True\n",
        "    return False\n",
        "\n",
        "\n",
        "#2 gram\n",
        "X = n_gram(list(word1),2)\n",
        "Y = n_gram(list(word2),2)\n",
        "#set\n",
        "X = list_set(X)\n",
        "Y = list_set(Y)\n",
        "#union\n",
        "x = copy.deepcopy(X)\n",
        "y = copy.deepcopy(Y)\n",
        "XYunion = list_union(x,y)\n",
        "print(\"union\")\n",
        "print(XYunion)\n",
        "#inter\n",
        "x = copy.deepcopy(X)\n",
        "y = copy.deepcopy(Y)\n",
        "XYinter = list_inter(x,y)\n",
        "print(\"intersection\")\n",
        "print(XYinter)\n",
        "#diff\n",
        "x = copy.deepcopy(X)\n",
        "y = copy.deepcopy(Y)\n",
        "XYdiff = list_diff(x,y)\n",
        "print(\"defference\")\n",
        "print(XYdiff)\n",
        "#se\n",
        "x = copy.deepcopy(X)\n",
        "y = copy.deepcopy(Y)\n",
        "print(\"se\")\n",
        "print(list_se(x))\n",
        "print(list_se(y))"
      ],
      "execution_count": 7,
      "outputs": [
        {
          "output_type": "stream",
          "name": "stdout",
          "text": [
            "union\n",
            "[['p', 'a'], ['a', 'r'], ['r', 'a'], ['a', 'p'], ['a', 'd'], ['d', 'i'], ['i', 's'], ['s', 'e'], ['a', 'g'], ['g', 'r'], ['p', 'h']]\n",
            "intersection\n",
            "[['p', 'a'], ['a', 'r'], ['r', 'a'], ['a', 'p']]\n",
            "defference\n",
            "[['a', 'd'], ['d', 'i'], ['i', 's'], ['s', 'e']]\n",
            "se\n",
            "True\n",
            "False\n"
          ]
        }
      ]
    },
    {
      "cell_type": "markdown",
      "metadata": {
        "id": "cWPo5auuTOsd"
      },
      "source": [
        "No.07"
      ]
    },
    {
      "cell_type": "code",
      "metadata": {
        "colab": {
          "base_uri": "https://localhost:8080/"
        },
        "id": "GRWgFdbQTWs8",
        "outputId": "6f6023fc-f9f2-44ea-d7ff-1ebf41cee051"
      },
      "source": [
        "def temp(x,y,z):\n",
        "    return str(x) + \"時の\" + str(y) + \"は\" + str(z)\n",
        "\n",
        "print(temp(12,\"気温\",22.4))"
      ],
      "execution_count": 8,
      "outputs": [
        {
          "output_type": "stream",
          "name": "stdout",
          "text": [
            "12時の気温は22.4\n"
          ]
        }
      ]
    },
    {
      "cell_type": "markdown",
      "metadata": {
        "id": "FzlMnkoeTRmD"
      },
      "source": [
        "No.08"
      ]
    },
    {
      "cell_type": "code",
      "metadata": {
        "colab": {
          "base_uri": "https://localhost:8080/"
        },
        "id": "V7fHffL1TbVs",
        "outputId": "0babac6c-d083-4f98-9de0-f8aeb8f48aa1"
      },
      "source": [
        "sentence = \"To be, or not to be. That is the question.\"\n",
        "\n",
        "def enc(MySentence):\n",
        "    l = \"\"\n",
        "    for w in list(MySentence):\n",
        "        if w.islower():\n",
        "            l += chr(219 - ord(w))\n",
        "        else:\n",
        "            l += w\n",
        "    return l\n",
        "\n",
        "\n",
        "enco = enc(sentence)\n",
        "print(enco)\n",
        "deco = enc(enco)\n",
        "print(deco)"
      ],
      "execution_count": 9,
      "outputs": [
        {
          "output_type": "stream",
          "name": "stdout",
          "text": [
            "Tl yv, li mlg gl yv. Tszg rh gsv jfvhgrlm.\n",
            "To be, or not to be. That is the question.\n"
          ]
        }
      ]
    },
    {
      "cell_type": "markdown",
      "metadata": {
        "id": "YxONqjmpTgkP"
      },
      "source": [
        "NO.09"
      ]
    },
    {
      "cell_type": "code",
      "metadata": {
        "colab": {
          "base_uri": "https://localhost:8080/"
        },
        "id": "CgsNGO6jTi_W",
        "outputId": "7e703eef-a700-40bf-a937-571f5c22a61b"
      },
      "source": [
        "import random\n",
        "\n",
        "sentence = \"I couldn’t believe that I could actually understand what I was reading : the phenomenal power of the human mind .\"\n",
        "\n",
        "buff = sentence.split()\n",
        "re = \"\"\n",
        "for w in buff:\n",
        "    if len(w) > 4:\n",
        "        top = w[0]\n",
        "        bot = w[-1]\n",
        "        body = w[1:-2]\n",
        "        body = list(body)\n",
        "        random.shuffle(body)\n",
        "        body = \"\".join(body)\n",
        "        re += top + body + bot\n",
        "    else:\n",
        "        re += w\n",
        "    re += \" \"\n",
        "\n",
        "print(re)"
      ],
      "execution_count": 10,
      "outputs": [
        {
          "output_type": "stream",
          "name": "stdout",
          "text": [
            "I cndluot bielee that I cuod actaluy uadnetrsd what I was riaedg : the pnhomeenl powr of the humn mind . \n"
          ]
        }
      ]
    }
  ]
}